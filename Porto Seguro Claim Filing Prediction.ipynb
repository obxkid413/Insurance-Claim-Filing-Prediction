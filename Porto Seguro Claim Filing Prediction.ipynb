{
 "cells": [
  {
   "cell_type": "code",
   "execution_count": 1,
   "metadata": {
    "collapsed": false
   },
   "outputs": [],
   "source": [
    "import pandas as pd\n",
    "import numpy as np\n",
    "from sklearn.utils import shuffle\n",
    "import sklearn\n",
    "import imblearn\n",
    "from sklearn.pipeline import Pipeline\n",
    "from sklearn.preprocessing import StandardScaler, Imputer\n",
    "from sklearn.neighbors import KNeighborsClassifier\n",
    "from sklearn.linear_model import LogisticRegression, LinearRegression\n",
    "from sklearn.neighbors import KNeighborsRegressor\n",
    "from sklearn.metrics import confusion_matrix\n",
    "from sklearn.metrics import mean_squared_error\n",
    "from sklearn.metrics import confusion_matrix\n",
    "import matplotlib.pyplot as plt\n",
    "from sklearn import preprocessing\n",
    "from imblearn.under_sampling import RandomUnderSampler\n",
    "from imblearn.over_sampling import RandomOverSampler\n",
    "from imblearn.pipeline import make_pipeline as make_pipeline_imb\n",
    "from sklearn.svm import SVC\n",
    "from sklearn import feature_selection\n",
    "from sklearn.metrics import f1_score\n",
    "import seaborn as sns\n",
    "from scipy.stats import pointbiserialr\n",
    "%matplotlib inline"
   ]
  },
  {
   "cell_type": "code",
   "execution_count": 2,
   "metadata": {
    "collapsed": true
   },
   "outputs": [],
   "source": [
    "data=pd.read_csv('/Users/jon/Documents/CSC 478/Project Data/train.csv')"
   ]
  },
  {
   "cell_type": "code",
   "execution_count": 3,
   "metadata": {
    "collapsed": false
   },
   "outputs": [
    {
     "data": {
      "text/plain": [
       "0    573518\n",
       "1     21694\n",
       "Name: target, dtype: int64"
      ]
     },
     "execution_count": 3,
     "metadata": {},
     "output_type": "execute_result"
    }
   ],
   "source": [
    "data['target'].value_counts()"
   ]
  },
  {
   "cell_type": "code",
   "execution_count": 4,
   "metadata": {
    "collapsed": false
   },
   "outputs": [
    {
     "data": {
      "text/plain": [
       "(595212, 59)"
      ]
     },
     "execution_count": 4,
     "metadata": {},
     "output_type": "execute_result"
    }
   ],
   "source": [
    "data.shape"
   ]
  },
  {
   "cell_type": "code",
   "execution_count": 5,
   "metadata": {
    "collapsed": false
   },
   "outputs": [
    {
     "data": {
      "text/html": [
       "<div>\n",
       "<table border=\"1\" class=\"dataframe\">\n",
       "  <thead>\n",
       "    <tr style=\"text-align: right;\">\n",
       "      <th></th>\n",
       "      <th>id</th>\n",
       "      <th>target</th>\n",
       "      <th>ps_ind_01</th>\n",
       "      <th>ps_ind_02_cat</th>\n",
       "      <th>ps_ind_03</th>\n",
       "      <th>ps_ind_04_cat</th>\n",
       "      <th>ps_ind_05_cat</th>\n",
       "      <th>ps_ind_06_bin</th>\n",
       "      <th>ps_ind_07_bin</th>\n",
       "      <th>ps_ind_08_bin</th>\n",
       "      <th>...</th>\n",
       "      <th>ps_calc_11</th>\n",
       "      <th>ps_calc_12</th>\n",
       "      <th>ps_calc_13</th>\n",
       "      <th>ps_calc_14</th>\n",
       "      <th>ps_calc_15_bin</th>\n",
       "      <th>ps_calc_16_bin</th>\n",
       "      <th>ps_calc_17_bin</th>\n",
       "      <th>ps_calc_18_bin</th>\n",
       "      <th>ps_calc_19_bin</th>\n",
       "      <th>ps_calc_20_bin</th>\n",
       "    </tr>\n",
       "  </thead>\n",
       "  <tbody>\n",
       "    <tr>\n",
       "      <th>count</th>\n",
       "      <td>5.952120e+05</td>\n",
       "      <td>595212.000000</td>\n",
       "      <td>595212.000000</td>\n",
       "      <td>595212.000000</td>\n",
       "      <td>595212.000000</td>\n",
       "      <td>595212.000000</td>\n",
       "      <td>595212.000000</td>\n",
       "      <td>595212.000000</td>\n",
       "      <td>595212.000000</td>\n",
       "      <td>595212.000000</td>\n",
       "      <td>...</td>\n",
       "      <td>595212.000000</td>\n",
       "      <td>595212.000000</td>\n",
       "      <td>595212.000000</td>\n",
       "      <td>595212.000000</td>\n",
       "      <td>595212.000000</td>\n",
       "      <td>595212.000000</td>\n",
       "      <td>595212.000000</td>\n",
       "      <td>595212.000000</td>\n",
       "      <td>595212.000000</td>\n",
       "      <td>595212.000000</td>\n",
       "    </tr>\n",
       "    <tr>\n",
       "      <th>mean</th>\n",
       "      <td>7.438036e+05</td>\n",
       "      <td>0.036448</td>\n",
       "      <td>1.900378</td>\n",
       "      <td>1.358943</td>\n",
       "      <td>4.423318</td>\n",
       "      <td>0.416794</td>\n",
       "      <td>0.405188</td>\n",
       "      <td>0.393742</td>\n",
       "      <td>0.257033</td>\n",
       "      <td>0.163921</td>\n",
       "      <td>...</td>\n",
       "      <td>5.441382</td>\n",
       "      <td>1.441918</td>\n",
       "      <td>2.872288</td>\n",
       "      <td>7.539026</td>\n",
       "      <td>0.122427</td>\n",
       "      <td>0.627840</td>\n",
       "      <td>0.554182</td>\n",
       "      <td>0.287182</td>\n",
       "      <td>0.349024</td>\n",
       "      <td>0.153318</td>\n",
       "    </tr>\n",
       "    <tr>\n",
       "      <th>std</th>\n",
       "      <td>4.293678e+05</td>\n",
       "      <td>0.187401</td>\n",
       "      <td>1.983789</td>\n",
       "      <td>0.664594</td>\n",
       "      <td>2.699902</td>\n",
       "      <td>0.493311</td>\n",
       "      <td>1.350642</td>\n",
       "      <td>0.488579</td>\n",
       "      <td>0.436998</td>\n",
       "      <td>0.370205</td>\n",
       "      <td>...</td>\n",
       "      <td>2.332871</td>\n",
       "      <td>1.202963</td>\n",
       "      <td>1.694887</td>\n",
       "      <td>2.746652</td>\n",
       "      <td>0.327779</td>\n",
       "      <td>0.483381</td>\n",
       "      <td>0.497056</td>\n",
       "      <td>0.452447</td>\n",
       "      <td>0.476662</td>\n",
       "      <td>0.360295</td>\n",
       "    </tr>\n",
       "    <tr>\n",
       "      <th>min</th>\n",
       "      <td>7.000000e+00</td>\n",
       "      <td>0.000000</td>\n",
       "      <td>0.000000</td>\n",
       "      <td>-1.000000</td>\n",
       "      <td>0.000000</td>\n",
       "      <td>-1.000000</td>\n",
       "      <td>-1.000000</td>\n",
       "      <td>0.000000</td>\n",
       "      <td>0.000000</td>\n",
       "      <td>0.000000</td>\n",
       "      <td>...</td>\n",
       "      <td>0.000000</td>\n",
       "      <td>0.000000</td>\n",
       "      <td>0.000000</td>\n",
       "      <td>0.000000</td>\n",
       "      <td>0.000000</td>\n",
       "      <td>0.000000</td>\n",
       "      <td>0.000000</td>\n",
       "      <td>0.000000</td>\n",
       "      <td>0.000000</td>\n",
       "      <td>0.000000</td>\n",
       "    </tr>\n",
       "    <tr>\n",
       "      <th>25%</th>\n",
       "      <td>3.719915e+05</td>\n",
       "      <td>0.000000</td>\n",
       "      <td>0.000000</td>\n",
       "      <td>1.000000</td>\n",
       "      <td>2.000000</td>\n",
       "      <td>0.000000</td>\n",
       "      <td>0.000000</td>\n",
       "      <td>0.000000</td>\n",
       "      <td>0.000000</td>\n",
       "      <td>0.000000</td>\n",
       "      <td>...</td>\n",
       "      <td>4.000000</td>\n",
       "      <td>1.000000</td>\n",
       "      <td>2.000000</td>\n",
       "      <td>6.000000</td>\n",
       "      <td>0.000000</td>\n",
       "      <td>0.000000</td>\n",
       "      <td>0.000000</td>\n",
       "      <td>0.000000</td>\n",
       "      <td>0.000000</td>\n",
       "      <td>0.000000</td>\n",
       "    </tr>\n",
       "    <tr>\n",
       "      <th>50%</th>\n",
       "      <td>7.435475e+05</td>\n",
       "      <td>0.000000</td>\n",
       "      <td>1.000000</td>\n",
       "      <td>1.000000</td>\n",
       "      <td>4.000000</td>\n",
       "      <td>0.000000</td>\n",
       "      <td>0.000000</td>\n",
       "      <td>0.000000</td>\n",
       "      <td>0.000000</td>\n",
       "      <td>0.000000</td>\n",
       "      <td>...</td>\n",
       "      <td>5.000000</td>\n",
       "      <td>1.000000</td>\n",
       "      <td>3.000000</td>\n",
       "      <td>7.000000</td>\n",
       "      <td>0.000000</td>\n",
       "      <td>1.000000</td>\n",
       "      <td>1.000000</td>\n",
       "      <td>0.000000</td>\n",
       "      <td>0.000000</td>\n",
       "      <td>0.000000</td>\n",
       "    </tr>\n",
       "    <tr>\n",
       "      <th>75%</th>\n",
       "      <td>1.115549e+06</td>\n",
       "      <td>0.000000</td>\n",
       "      <td>3.000000</td>\n",
       "      <td>2.000000</td>\n",
       "      <td>6.000000</td>\n",
       "      <td>1.000000</td>\n",
       "      <td>0.000000</td>\n",
       "      <td>1.000000</td>\n",
       "      <td>1.000000</td>\n",
       "      <td>0.000000</td>\n",
       "      <td>...</td>\n",
       "      <td>7.000000</td>\n",
       "      <td>2.000000</td>\n",
       "      <td>4.000000</td>\n",
       "      <td>9.000000</td>\n",
       "      <td>0.000000</td>\n",
       "      <td>1.000000</td>\n",
       "      <td>1.000000</td>\n",
       "      <td>1.000000</td>\n",
       "      <td>1.000000</td>\n",
       "      <td>0.000000</td>\n",
       "    </tr>\n",
       "    <tr>\n",
       "      <th>max</th>\n",
       "      <td>1.488027e+06</td>\n",
       "      <td>1.000000</td>\n",
       "      <td>7.000000</td>\n",
       "      <td>4.000000</td>\n",
       "      <td>11.000000</td>\n",
       "      <td>1.000000</td>\n",
       "      <td>6.000000</td>\n",
       "      <td>1.000000</td>\n",
       "      <td>1.000000</td>\n",
       "      <td>1.000000</td>\n",
       "      <td>...</td>\n",
       "      <td>19.000000</td>\n",
       "      <td>10.000000</td>\n",
       "      <td>13.000000</td>\n",
       "      <td>23.000000</td>\n",
       "      <td>1.000000</td>\n",
       "      <td>1.000000</td>\n",
       "      <td>1.000000</td>\n",
       "      <td>1.000000</td>\n",
       "      <td>1.000000</td>\n",
       "      <td>1.000000</td>\n",
       "    </tr>\n",
       "  </tbody>\n",
       "</table>\n",
       "<p>8 rows × 59 columns</p>\n",
       "</div>"
      ],
      "text/plain": [
       "                 id         target      ps_ind_01  ps_ind_02_cat  \\\n",
       "count  5.952120e+05  595212.000000  595212.000000  595212.000000   \n",
       "mean   7.438036e+05       0.036448       1.900378       1.358943   \n",
       "std    4.293678e+05       0.187401       1.983789       0.664594   \n",
       "min    7.000000e+00       0.000000       0.000000      -1.000000   \n",
       "25%    3.719915e+05       0.000000       0.000000       1.000000   \n",
       "50%    7.435475e+05       0.000000       1.000000       1.000000   \n",
       "75%    1.115549e+06       0.000000       3.000000       2.000000   \n",
       "max    1.488027e+06       1.000000       7.000000       4.000000   \n",
       "\n",
       "           ps_ind_03  ps_ind_04_cat  ps_ind_05_cat  ps_ind_06_bin  \\\n",
       "count  595212.000000  595212.000000  595212.000000  595212.000000   \n",
       "mean        4.423318       0.416794       0.405188       0.393742   \n",
       "std         2.699902       0.493311       1.350642       0.488579   \n",
       "min         0.000000      -1.000000      -1.000000       0.000000   \n",
       "25%         2.000000       0.000000       0.000000       0.000000   \n",
       "50%         4.000000       0.000000       0.000000       0.000000   \n",
       "75%         6.000000       1.000000       0.000000       1.000000   \n",
       "max        11.000000       1.000000       6.000000       1.000000   \n",
       "\n",
       "       ps_ind_07_bin  ps_ind_08_bin       ...           ps_calc_11  \\\n",
       "count  595212.000000  595212.000000       ...        595212.000000   \n",
       "mean        0.257033       0.163921       ...             5.441382   \n",
       "std         0.436998       0.370205       ...             2.332871   \n",
       "min         0.000000       0.000000       ...             0.000000   \n",
       "25%         0.000000       0.000000       ...             4.000000   \n",
       "50%         0.000000       0.000000       ...             5.000000   \n",
       "75%         1.000000       0.000000       ...             7.000000   \n",
       "max         1.000000       1.000000       ...            19.000000   \n",
       "\n",
       "          ps_calc_12     ps_calc_13     ps_calc_14  ps_calc_15_bin  \\\n",
       "count  595212.000000  595212.000000  595212.000000   595212.000000   \n",
       "mean        1.441918       2.872288       7.539026        0.122427   \n",
       "std         1.202963       1.694887       2.746652        0.327779   \n",
       "min         0.000000       0.000000       0.000000        0.000000   \n",
       "25%         1.000000       2.000000       6.000000        0.000000   \n",
       "50%         1.000000       3.000000       7.000000        0.000000   \n",
       "75%         2.000000       4.000000       9.000000        0.000000   \n",
       "max        10.000000      13.000000      23.000000        1.000000   \n",
       "\n",
       "       ps_calc_16_bin  ps_calc_17_bin  ps_calc_18_bin  ps_calc_19_bin  \\\n",
       "count   595212.000000   595212.000000   595212.000000   595212.000000   \n",
       "mean         0.627840        0.554182        0.287182        0.349024   \n",
       "std          0.483381        0.497056        0.452447        0.476662   \n",
       "min          0.000000        0.000000        0.000000        0.000000   \n",
       "25%          0.000000        0.000000        0.000000        0.000000   \n",
       "50%          1.000000        1.000000        0.000000        0.000000   \n",
       "75%          1.000000        1.000000        1.000000        1.000000   \n",
       "max          1.000000        1.000000        1.000000        1.000000   \n",
       "\n",
       "       ps_calc_20_bin  \n",
       "count   595212.000000  \n",
       "mean         0.153318  \n",
       "std          0.360295  \n",
       "min          0.000000  \n",
       "25%          0.000000  \n",
       "50%          0.000000  \n",
       "75%          0.000000  \n",
       "max          1.000000  \n",
       "\n",
       "[8 rows x 59 columns]"
      ]
     },
     "execution_count": 5,
     "metadata": {},
     "output_type": "execute_result"
    }
   ],
   "source": [
    "data.describe()"
   ]
  },
  {
   "cell_type": "code",
   "execution_count": 6,
   "metadata": {
    "collapsed": true
   },
   "outputs": [],
   "source": [
    "#Examine missing values(in this data, missing is represented by a value of -1)\n",
    "def missing_percentages(df):\n",
    "    d={}\n",
    "    columns=df.columns\n",
    "    for i in columns:\n",
    "        missing_count=0\n",
    "        for j in df[i]:\n",
    "            if j==-1:\n",
    "                missing_count+=1\n",
    "            else:\n",
    "                missing_count+=0\n",
    "        percent=missing_count/float(len(df))*100\n",
    "        d[i]=percent\n",
    "    d={k:v for k, v in d.items() if v>0}\n",
    "    axes = plt.gca()\n",
    "    axes.set_ylim([0,100])\n",
    "    plt.bar(range(len(d)), list(d.values()), align='center', )\n",
    "    plt.xticks(range(len(d)), list(d.keys()))\n",
    "    plt.xticks(rotation=90)\n",
    "    plt.show()\n",
    "    return d"
   ]
  },
  {
   "cell_type": "code",
   "execution_count": 7,
   "metadata": {
    "collapsed": false
   },
   "outputs": [
    {
     "data": {
      "image/png": "[encoded data removed]",
      "text/plain": [
       "<matplotlib.figure.Figure at 0x10b420890>"
      ]
     },
     "metadata": {},
     "output_type": "display_data"
    },
    {
     "data": {
      "text/plain": [
       "{'ps_car_01_cat': 0.01797678810239041,\n",
       " 'ps_car_02_cat': 0.0008400368272145051,\n",
       " 'ps_car_03_cat': 69.08983689844963,\n",
       " 'ps_car_05_cat': 44.78253126617071,\n",
       " 'ps_car_07_cat': 1.9302366215734896,\n",
       " 'ps_car_09_cat': 0.09559619093701067,\n",
       " 'ps_car_11': 0.0008400368272145051,\n",
       " 'ps_car_12': 0.000168007365442901,\n",
       " 'ps_car_14': 7.160473915176441,\n",
       " 'ps_ind_02_cat': 0.036289590935666624,\n",
       " 'ps_ind_04_cat': 0.013944611331760785,\n",
       " 'ps_ind_05_cat': 0.975954785857812,\n",
       " 'ps_reg_03': 18.106489788512327}"
      ]
     },
     "execution_count": 7,
     "metadata": {},
     "output_type": "execute_result"
    }
   ],
   "source": [
    "missing_percentages(data)"
   ]
  },
  {
   "cell_type": "markdown",
   "metadata": {},
   "source": [
    "# Above, we can see there are 13 variables with different percentages of missing values. "
   ]
  },
  {
   "cell_type": "code",
   "execution_count": 8,
   "metadata": {
    "collapsed": false
   },
   "outputs": [
    {
     "name": "stdout",
     "output_type": "stream",
     "text": [
      "ps_ind_02_cat 23.0395228115 3.96242019874e-05\n",
      "ps_ind_04_cat 61.1490890168 5.2912246979e-15\n",
      "ps_ind_05_cat 771.160950385 2.61806265455e-163\n",
      "ps_ind_06_bin 688.376557889 1.00769272259e-151\n",
      "ps_ind_07_bin 696.502044429 1.7232976058e-153\n",
      "ps_ind_08_bin 102.688838423 3.9214763966e-24\n",
      "ps_ind_09_bin 40.2691970732 2.2127034438e-10\n",
      "ps_ind_10_bin 1.49083915207 0.222086306306\n",
      "ps_ind_11_bin 2.19212980726 0.138717387178\n",
      "ps_ind_12_bin 35.8787342243 2.09988184204e-09\n",
      "ps_ind_13_bin 3.18877595278 0.0741455110366\n",
      "ps_ind_16_bin 458.965332287 8.07334244931e-102\n",
      "ps_ind_17_bin 816.557983753 1.35551103174e-179\n",
      "ps_ind_18_bin 12.2845909197 0.000456713497746\n",
      "ps_car_01_cat 770.783978929 3.54142753331e-158\n",
      "ps_car_02_cat 591.823589903 1.00520235661e-130\n",
      "ps_car_03_cat 78.8484803814 6.70610065189e-19\n",
      "ps_car_04_cat 866.457339876 1.04126152456e-180\n",
      "ps_car_05_cat 0.2406639612 0.623726977799\n",
      "ps_car_06_cat 831.485524094 8.85299991642e-166\n",
      "ps_car_07_cat 226.866524074 2.87555328262e-51\n",
      "ps_car_08_cat 246.005000014 1.92936005629e-55\n",
      "ps_car_09_cat 420.388749193 1.09250977598e-89\n",
      "ps_car_10_cat 0.648974774486 0.722897825327\n",
      "ps_car_11_cat 1490.11741656 1.46344022248e-244\n",
      "ps_calc_15_bin 0.135285302885 0.713013790073\n",
      "ps_calc_16_bin 0.224798128543 0.635408055174\n",
      "ps_calc_17_bin 0.01544956754 0.901080685209\n",
      "ps_calc_18_bin 0.17519257769 0.675537637115\n",
      "ps_calc_19_bin 1.79054056273 0.180860314623\n",
      "ps_calc_20_bin 0.668511486963 0.413571052218\n"
     ]
    }
   ],
   "source": [
    "#Examine categorical variables and their relationship to the target variable.  These would be variables ending with \n",
    "# 'cat' or 'bin'.\n",
    "\n",
    "from scipy.stats import chi2_contingency\n",
    "data=data.replace(-1, np.nan)\n",
    "\n",
    "for i in data.columns:\n",
    "    if 'cat' in i or 'bin' in i:\n",
    "        table=pd.crosstab(data[i], data['target'])\n",
    "        table=np.array(table)\n",
    "        result=chi2_contingency(table, correction=True)\n",
    "        test_stat=result[0]\n",
    "        p_val=result[1]\n",
    "        print i, test_stat, p_val\n",
    "        \n",
    "        \n",
    "        "
   ]
  },
  {
   "cell_type": "markdown",
   "metadata": {},
   "source": [
    "# Above, we see several categorical variables that appear to have no real relationship with our target variable.  We will remove these variables from our final data set."
   ]
  },
  {
   "cell_type": "code",
   "execution_count": 9,
   "metadata": {
    "collapsed": false
   },
   "outputs": [
    {
     "data": {
      "text/plain": [
       "(595212, 48)"
      ]
     },
     "execution_count": 9,
     "metadata": {},
     "output_type": "execute_result"
    }
   ],
   "source": [
    "#Above, we can see that only a select few of these 'bin' variables have a significant relationship with our target variable.\n",
    "# Let's drop the variables which do not have a significant relationship.  Also drop ps_car_05_cat and ps_car_10_cat\n",
    "data=data.drop(['ps_ind_10_bin', 'ps_ind_11_bin', 'ps_ind_13_bin', 'ps_calc_15_bin', 'ps_calc_16_bin', 'ps_calc_17_bin',\n",
    "                'ps_calc_18_bin', 'ps_calc_19_bin', 'ps_calc_20_bin', 'ps_car_05_cat', 'ps_car_10_cat'], axis=1)\n",
    "\n",
    "data.shape"
   ]
  },
  {
   "cell_type": "code",
   "execution_count": 10,
   "metadata": {
    "collapsed": false
   },
   "outputs": [
    {
     "name": "stdout",
     "output_type": "stream",
     "text": [
      "ps_reg_01\n",
      "ps_reg_02\n",
      "ps_reg_03\n",
      "ps_car_11\n",
      "ps_car_12\n",
      "ps_car_13\n",
      "ps_car_14\n",
      "ps_car_15\n",
      "ps_calc_01\n",
      "ps_calc_02\n",
      "ps_calc_03\n"
     ]
    },
    {
     "data": {
      "text/html": [
       "<div>\n",
       "<table border=\"1\" class=\"dataframe\">\n",
       "  <thead>\n",
       "    <tr style=\"text-align: right;\">\n",
       "      <th></th>\n",
       "      <th>ps_reg_01</th>\n",
       "      <th>ps_reg_02</th>\n",
       "      <th>ps_reg_03</th>\n",
       "      <th>ps_car_11</th>\n",
       "      <th>ps_car_12</th>\n",
       "      <th>ps_car_13</th>\n",
       "      <th>ps_car_14</th>\n",
       "      <th>ps_car_15</th>\n",
       "      <th>ps_calc_01</th>\n",
       "      <th>ps_calc_02</th>\n",
       "      <th>ps_calc_03</th>\n",
       "    </tr>\n",
       "  </thead>\n",
       "  <tbody>\n",
       "    <tr>\n",
       "      <th>0</th>\n",
       "      <td>0.7</td>\n",
       "      <td>0.2</td>\n",
       "      <td>0.718070</td>\n",
       "      <td>2.0</td>\n",
       "      <td>0.400000</td>\n",
       "      <td>0.883679</td>\n",
       "      <td>0.370810</td>\n",
       "      <td>3.605551</td>\n",
       "      <td>0.6</td>\n",
       "      <td>0.5</td>\n",
       "      <td>0.2</td>\n",
       "    </tr>\n",
       "    <tr>\n",
       "      <th>1</th>\n",
       "      <td>0.8</td>\n",
       "      <td>0.4</td>\n",
       "      <td>0.766078</td>\n",
       "      <td>3.0</td>\n",
       "      <td>0.316228</td>\n",
       "      <td>0.618817</td>\n",
       "      <td>0.388716</td>\n",
       "      <td>2.449490</td>\n",
       "      <td>0.3</td>\n",
       "      <td>0.1</td>\n",
       "      <td>0.3</td>\n",
       "    </tr>\n",
       "    <tr>\n",
       "      <th>2</th>\n",
       "      <td>0.0</td>\n",
       "      <td>0.0</td>\n",
       "      <td>NaN</td>\n",
       "      <td>1.0</td>\n",
       "      <td>0.316228</td>\n",
       "      <td>0.641586</td>\n",
       "      <td>0.347275</td>\n",
       "      <td>3.316625</td>\n",
       "      <td>0.5</td>\n",
       "      <td>0.7</td>\n",
       "      <td>0.1</td>\n",
       "    </tr>\n",
       "    <tr>\n",
       "      <th>3</th>\n",
       "      <td>0.9</td>\n",
       "      <td>0.2</td>\n",
       "      <td>0.580948</td>\n",
       "      <td>1.0</td>\n",
       "      <td>0.374166</td>\n",
       "      <td>0.542949</td>\n",
       "      <td>0.294958</td>\n",
       "      <td>2.000000</td>\n",
       "      <td>0.6</td>\n",
       "      <td>0.9</td>\n",
       "      <td>0.1</td>\n",
       "    </tr>\n",
       "    <tr>\n",
       "      <th>4</th>\n",
       "      <td>0.7</td>\n",
       "      <td>0.6</td>\n",
       "      <td>0.840759</td>\n",
       "      <td>3.0</td>\n",
       "      <td>0.316070</td>\n",
       "      <td>0.565832</td>\n",
       "      <td>0.365103</td>\n",
       "      <td>2.000000</td>\n",
       "      <td>0.4</td>\n",
       "      <td>0.6</td>\n",
       "      <td>0.0</td>\n",
       "    </tr>\n",
       "  </tbody>\n",
       "</table>\n",
       "</div>"
      ],
      "text/plain": [
       "   ps_reg_01  ps_reg_02  ps_reg_03  ps_car_11  ps_car_12  ps_car_13  \\\n",
       "0        0.7        0.2   0.718070        2.0   0.400000   0.883679   \n",
       "1        0.8        0.4   0.766078        3.0   0.316228   0.618817   \n",
       "2        0.0        0.0        NaN        1.0   0.316228   0.641586   \n",
       "3        0.9        0.2   0.580948        1.0   0.374166   0.542949   \n",
       "4        0.7        0.6   0.840759        3.0   0.316070   0.565832   \n",
       "\n",
       "   ps_car_14  ps_car_15  ps_calc_01  ps_calc_02  ps_calc_03  \n",
       "0   0.370810   3.605551         0.6         0.5         0.2  \n",
       "1   0.388716   2.449490         0.3         0.1         0.3  \n",
       "2   0.347275   3.316625         0.5         0.7         0.1  \n",
       "3   0.294958   2.000000         0.6         0.9         0.1  \n",
       "4   0.365103   2.000000         0.4         0.6         0.0  "
      ]
     },
     "execution_count": 10,
     "metadata": {},
     "output_type": "execute_result"
    }
   ],
   "source": [
    "#We must define what the continuous features are.  They are any column whose dtype is float.\n",
    "continuous_vars=[]\n",
    "\n",
    "for i in data.columns:\n",
    "    if data[i].dtype==float:\n",
    "        if 'cat' not in i:\n",
    "            print i\n",
    "            continuous_vars.append(i)\n",
    "        \n",
    "df_continuous=data[continuous_vars]\n",
    "\n",
    "df_continuous.head()"
   ]
  },
  {
   "cell_type": "code",
   "execution_count": 11,
   "metadata": {
    "collapsed": false
   },
   "outputs": [
    {
     "data": {
      "text/plain": [
       "<matplotlib.axes._subplots.AxesSubplot at 0x1a18574390>"
      ]
     },
     "execution_count": 11,
     "metadata": {},
     "output_type": "execute_result"
    },
    {
     "data": {
      "image/png": "[encoded data removed]",
      "text/plain": [
       "<matplotlib.figure.Figure at 0x1a18569cd0>"
      ]
     },
     "metadata": {},
     "output_type": "display_data"
    }
   ],
   "source": [
    "correlations=df_continuous.corr()\n",
    "mask = np.zeros_like(correlations, dtype=np.bool)\n",
    "mask[np.triu_indices_from(mask)] = True\n",
    "\n",
    "\n",
    "f, ax = plt.subplots(figsize=(11, 7))\n",
    "#print f, ax\n",
    "\n",
    "\n",
    "cmap = sns.diverging_palette(220, 10, as_cmap=True)\n",
    "\n",
    "# Draw the heatmap with the mask and correct aspect ratio\n",
    "sns.heatmap(correlations, mask=mask, cmap=cmap, vmax=.9, center=0,\n",
    "            square=True, linewidths=.5, cbar_kws={\"shrink\": .5})"
   ]
  },
  {
   "cell_type": "code",
   "execution_count": 12,
   "metadata": {
    "collapsed": false
   },
   "outputs": [
    {
     "data": {
      "text/plain": [
       "(595212, 47)"
      ]
     },
     "execution_count": 12,
     "metadata": {},
     "output_type": "execute_result"
    }
   ],
   "source": [
    "#Above, we can see ps_reg_02 and ps_reg_03 appear to have a pretty strong positive relationship.  Let's drop one of \n",
    "# the two.\n",
    "data=data.drop(['ps_reg_02'], axis=1)\n",
    "data.shape"
   ]
  },
  {
   "cell_type": "code",
   "execution_count": 13,
   "metadata": {
    "collapsed": false
   },
   "outputs": [
    {
     "name": "stderr",
     "output_type": "stream",
     "text": [
      "/Users/jon/python/anaconda/lib/python2.7/site-packages/IPython/core/interactiveshell.py:2885: FutureWarning: \n",
      "mpl_style had been deprecated and will be removed in a future version.\n",
      "Use `matplotlib.pyplot.style.use` instead.\n",
      "\n",
      "  exec(code_obj, self.user_global_ns, self.user_ns)\n"
     ]
    },
    {
     "data": {
      "text/plain": [
       "<matplotlib.axes._subplots.AxesSubplot at 0x1a16d6add0>"
      ]
     },
     "execution_count": 13,
     "metadata": {},
     "output_type": "execute_result"
    },
    {
     "data": {
      "image/png": "[encoded data removed]",
      "text/plain": [
       "<matplotlib.figure.Figure at 0x1a16cee7d0>"
      ]
     },
     "metadata": {},
     "output_type": "display_data"
    }
   ],
   "source": [
    "#Examine a boxplot of continuous features\n",
    "pd.options.display.mpl_style = 'default'\n",
    "df_continuous.boxplot(rot=90)"
   ]
  },
  {
   "cell_type": "markdown",
   "metadata": {},
   "source": [
    "# Here, we will now create dummies for all categorical variables.  Keeping in mind, while there are ordinal variables in this data, those will be treated as continuous variables and thus, not dummy coded.  Let's first examine a correlation plot of those ordinal variables and our target to see which are important to keep in our data.  Since we are examining ordinal variables against our target variable, which is binary, I will use a point-biserial correlation method."
   ]
  },
  {
   "cell_type": "code",
   "execution_count": 14,
   "metadata": {
    "collapsed": false
   },
   "outputs": [],
   "source": [
    "#Define all variables which we want to treat as continuous and examine relationship to the target variable. \n",
    "vars_1=[]\n",
    "\n",
    "for i in data.columns:\n",
    "    if data[i].dtype==int or data[i].dtype==float:\n",
    "        if 'cat' not in i and 'bin' not in i and 'id' not in i:\n",
    "            vars_1.append(i)\n"
   ]
  },
  {
   "cell_type": "code",
   "execution_count": 15,
   "metadata": {
    "collapsed": false
   },
   "outputs": [
    {
     "data": {
      "text/plain": [
       "['target',\n",
       " 'ps_ind_01',\n",
       " 'ps_ind_03',\n",
       " 'ps_ind_14',\n",
       " 'ps_ind_15',\n",
       " 'ps_reg_01',\n",
       " 'ps_reg_03',\n",
       " 'ps_car_11',\n",
       " 'ps_car_12',\n",
       " 'ps_car_13',\n",
       " 'ps_car_14',\n",
       " 'ps_car_15',\n",
       " 'ps_calc_01',\n",
       " 'ps_calc_02',\n",
       " 'ps_calc_03',\n",
       " 'ps_calc_04',\n",
       " 'ps_calc_05',\n",
       " 'ps_calc_06',\n",
       " 'ps_calc_07',\n",
       " 'ps_calc_08',\n",
       " 'ps_calc_09',\n",
       " 'ps_calc_10',\n",
       " 'ps_calc_11',\n",
       " 'ps_calc_12',\n",
       " 'ps_calc_13',\n",
       " 'ps_calc_14']"
      ]
     },
     "execution_count": 15,
     "metadata": {},
     "output_type": "execute_result"
    }
   ],
   "source": [
    "vars_1"
   ]
  },
  {
   "cell_type": "code",
   "execution_count": 16,
   "metadata": {
    "collapsed": false
   },
   "outputs": [
    {
     "name": "stdout",
     "output_type": "stream",
     "text": [
      "target PointbiserialrResult(correlation=1.0, pvalue=0.0)\n",
      "ps_ind_01 PointbiserialrResult(correlation=0.01857025865750667, pvalue=1.4594266788379915e-46)\n",
      "ps_ind_03 PointbiserialrResult(correlation=0.008359590302657649, pvalue=1.1220369494763593e-10)\n",
      "ps_ind_14 PointbiserialrResult(correlation=0.0074428309647426808, pvalue=9.3448636827994937e-09)\n",
      "ps_ind_15 PointbiserialrResult(correlation=-0.021506221687934729, pvalue=7.7104765648595867e-62)\n",
      "ps_reg_01 PointbiserialrResult(correlation=0.022888044440398703, pvalue=8.4639618322116792e-70)\n",
      "ps_reg_03 PointbiserialrResult(correlation=nan, pvalue=1.0)\n",
      "ps_car_11 PointbiserialrResult(correlation=nan, pvalue=1.0)\n",
      "ps_car_12 PointbiserialrResult(correlation=nan, pvalue=1.0)\n",
      "ps_car_13 PointbiserialrResult(correlation=0.053898779484773868, pvalue=0.0)\n",
      "ps_car_14 PointbiserialrResult(correlation=nan, pvalue=1.0)\n",
      "ps_car_15 PointbiserialrResult(correlation=0.027667281027275076, pvalue=3.9544596704611188e-101)\n",
      "ps_calc_01 PointbiserialrResult(correlation=0.0017819546519207466, pvalue=0.16920092273440476)\n",
      "ps_calc_02 PointbiserialrResult(correlation=0.0013596889783314202, pvalue=0.29417898897915296)\n",
      "ps_calc_03 PointbiserialrResult(correlation=0.0019069735964084146, pvalue=0.1412294487616898)\n",
      "ps_calc_04 PointbiserialrResult(correlation=3.2720455100232495e-05, pvalue=0.97986052176282101)\n",
      "ps_calc_05 PointbiserialrResult(correlation=0.00077088013653267735, pvalue=0.55202213357282559)\n",
      "ps_calc_06 PointbiserialrResult(correlation=8.1822259780747522e-05, pvalue=0.94966638739158749)\n",
      "ps_calc_07 PointbiserialrResult(correlation=-0.00010347690485268725, pvalue=0.9363706758649506)\n",
      "ps_calc_08 PointbiserialrResult(correlation=-0.0010058548384191594, pvalue=0.43773988648048812)\n",
      "ps_calc_09 PointbiserialrResult(correlation=0.00071896758436416084, pvalue=0.57911199769454424)\n",
      "ps_calc_10 PointbiserialrResult(correlation=0.0010608340444788278, pvalue=0.4131106672618019)\n",
      "ps_calc_11 PointbiserialrResult(correlation=0.00037143739489095963, pvalue=0.77444672027591355)\n",
      "ps_calc_12 PointbiserialrResult(correlation=-0.0011325853981362334, pvalue=0.38223377331254926)\n",
      "ps_calc_13 PointbiserialrResult(correlation=-0.0004464645318087034, pvalue=0.73051044294070477)\n",
      "ps_calc_14 PointbiserialrResult(correlation=0.0013622753431193101, pvalue=0.29326158109963502)\n"
     ]
    }
   ],
   "source": [
    "#Run a point-biserial correlation for each one of these variables to see which are important.\n",
    "from scipy import stats\n",
    "\n",
    "a=data['target']\n",
    "a=np.array(a)\n",
    "\n",
    "for i in vars_1:\n",
    "    print i, stats.pointbiserialr(a, data[i])"
   ]
  },
  {
   "cell_type": "markdown",
   "metadata": {},
   "source": [
    "# Above, we see some interesting results.  None of the variables have very strong correlations with the target variable.  No correlation is stronger than .027. But we do see more features we can remove which is good considering we already have a good number and we haven't even added our dummy variables yet."
   ]
  },
  {
   "cell_type": "code",
   "execution_count": 17,
   "metadata": {
    "collapsed": false
   },
   "outputs": [
    {
     "data": {
      "text/plain": [
       "(595212, 29)"
      ]
     },
     "execution_count": 17,
     "metadata": {},
     "output_type": "execute_result"
    }
   ],
   "source": [
    "data=data.drop(['ps_reg_03', 'ps_car_11', 'ps_car_12', 'ps_car_14', 'ps_calc_01', 'ps_calc_02', 'ps_calc_03', 'ps_calc_04',\n",
    "               'ps_calc_05', 'ps_calc_06', 'ps_calc_07', 'ps_calc_08', 'ps_calc_09', 'ps_calc_10', 'ps_calc_11', \n",
    "               'ps_calc_12', 'ps_calc_13', 'ps_calc_14'], axis=1)\n",
    "data.shape"
   ]
  },
  {
   "cell_type": "code",
   "execution_count": 18,
   "metadata": {
    "collapsed": true
   },
   "outputs": [],
   "source": [
    "#Now we are down to 29 columns before adding in our dummy coded variables."
   ]
  },
  {
   "cell_type": "code",
   "execution_count": 18,
   "metadata": {
    "collapsed": false
   },
   "outputs": [
    {
     "data": {
      "text/plain": [
       "(595212, 178)"
      ]
     },
     "execution_count": 18,
     "metadata": {},
     "output_type": "execute_result"
    }
   ],
   "source": [
    "cat_vars=[]\n",
    "\n",
    "for i in data.columns:\n",
    "    if 'cat' in i:\n",
    "        cat_vars.append(i)\n",
    "        \n",
    "data=data.replace(np.nan, -1)\n",
    "dfs = [pd.get_dummies(data[f], prefix=f) for f in cat_vars]\n",
    "dummies=reduce(lambda df1, df2: df1.join(df2), dfs)\n",
    "dummies.shape"
   ]
  },
  {
   "cell_type": "code",
   "execution_count": 19,
   "metadata": {
    "collapsed": false
   },
   "outputs": [],
   "source": [
    "X_data=data.copy()\n",
    "\n",
    "for i in X_data.columns:\n",
    "    if 'cat' in i:\n",
    "        X_data=X_data.drop(i, axis=1)"
   ]
  },
  {
   "cell_type": "code",
   "execution_count": 20,
   "metadata": {
    "collapsed": false
   },
   "outputs": [],
   "source": [
    "#Insert the dummies for the dropped variables\n",
    "X_data=X_data.join(dummies, rsuffix='d')"
   ]
  },
  {
   "cell_type": "code",
   "execution_count": 21,
   "metadata": {
    "collapsed": false
   },
   "outputs": [
    {
     "data": {
      "text/plain": [
       "(595212, 195)"
      ]
     },
     "execution_count": 21,
     "metadata": {},
     "output_type": "execute_result"
    }
   ],
   "source": [
    "X_data.shape"
   ]
  },
  {
   "cell_type": "code",
   "execution_count": 22,
   "metadata": {
    "collapsed": false
   },
   "outputs": [],
   "source": [
    "X_data=shuffle(X_data)\n",
    "n = len(X_data)/2\n",
    "y=X_data['target']\n",
    "X_train, X_test, y_train, y_test = X_data[:n], X_data[n:], y[:n], y[n:]\n",
    "X_train=X_train.drop(['id', 'target'], axis=1)\n",
    "X_test=X_test.drop(['id', 'target'], axis=1)\n",
    "\n",
    "#Handle missing values by imputing based on variable type\n",
    "#For continuous, impute using the mean and all others can used the mode."
   ]
  },
  {
   "cell_type": "code",
   "execution_count": 24,
   "metadata": {
    "collapsed": false,
    "scrolled": true
   },
   "outputs": [
    {
     "name": "stdout",
     "output_type": "stream",
     "text": [
      "(1, 'F1 score = 0.0966972246641', 'Recall score is 0.318855249839', 'Number of features=2')\n",
      "(11, 'F1 score = 0.100322754169', 'Recall score is 0.480537406828', 'Number of features=22')\n",
      "(21, 'F1 score = 0.10044519399', 'Recall score is 0.509708291157', 'Number of features=41')\n",
      "(31, 'F1 score = 0.100565547187', 'Recall score is 0.517898223981', 'Number of features=60')\n",
      "(41, 'F1 score = 0.101009914347', 'Recall score is 0.502990705807', 'Number of features=79')\n",
      "(51, 'F1 score = 0.101357918414', 'Recall score is 0.503818901261', 'Number of features=98')\n",
      "(61, 'F1 score = 0.100859504735', 'Recall score is 0.508604030551', 'Number of features=118')\n",
      "(71, 'F1 score = 0.10033952178', 'Recall score is 0.511272660348', 'Number of features=137')\n",
      "(81, 'F1 score = 0.0994803524566', 'Recall score is 0.526732308825', 'Number of features=156')\n",
      "(91, 'F1 score = 0.0995569500233', 'Recall score is 0.531425416398', 'Number of features=175')\n"
     ]
    }
   ],
   "source": [
    "from sklearn import feature_selection\n",
    "from sklearn.metrics import f1_score\n",
    "from sklearn.metrics import accuracy_score, recall_score\n",
    "d={}\n",
    "results = []\n",
    "for i in range(1, 100, 10):\n",
    "    fs = feature_selection.SelectPercentile(feature_selection.f_regression, percentile=i)\n",
    "    X_train_fs = fs.fit_transform(X_train, y_train)\n",
    "    pipe = make_pipeline_imb(RandomUnderSampler(random_state=42),\n",
    "                         StandardScaler(),\n",
    "                         SVC(kernel='linear', C=.01))\n",
    "    \n",
    "    pipe.fit(X_train_fs, y_train)\n",
    "    X_test_fs = fs.transform(X_test)\n",
    "    y_pred = pipe.predict(X_test_fs)\n",
    "    n_features=X_train_fs.shape[1]\n",
    "    print (i, \"F1 score = %s\" %f1_score(y_test, y_pred), \"Recall score is %s\" %recall_score(y_test,y_pred), \n",
    "           \"Number of features=%s\" %n_features)\n",
    "    columns = np.asarray(X_train.columns.values)\n",
    "    support = np.asarray(fs.get_support())\n",
    "    feature_names = columns[support]\n",
    "    d[n_features]=feature_names"
   ]
  },
  {
   "cell_type": "code",
   "execution_count": 23,
   "metadata": {
    "collapsed": false
   },
   "outputs": [
    {
     "name": "stdout",
     "output_type": "stream",
     "text": [
      "(1, 'F1 score = 0.0828096240901', 'Recall score is 0.230456852792', 'Number of features=2')\n",
      "(6, 'F1 score = 0.0951416363349', 'Recall score is 0.416151361329', 'Number of features=12')\n",
      "(11, 'F1 score = 0.0996505081229', 'Recall score is 0.456575911398', 'Number of features=22')\n",
      "(16, 'F1 score = 0.0997203741201', 'Recall score is 0.477249653899', 'Number of features=31')\n",
      "(21, 'F1 score = 0.100028699895', 'Recall score is 0.482510383018', 'Number of features=41')\n",
      "(26, 'F1 score = 0.0989340220709', 'Recall score is 0.486109829257', 'Number of features=50')\n",
      "(31, 'F1 score = 0.0988084206191', 'Recall score is 0.487125057683', 'Number of features=60')\n",
      "(36, 'F1 score = 0.0998967233124', 'Recall score is 0.491001384402', 'Number of features=70')\n",
      "(41, 'F1 score = 0.0998130841121', 'Recall score is 0.492847254269', 'Number of features=79')\n",
      "(46, 'F1 score = 0.0994265265862', 'Recall score is 0.500046146747', 'Number of features=89')\n",
      "(51, 'F1 score = 0.0994365991073', 'Recall score is 0.501707429626', 'Number of features=98')\n",
      "(56, 'F1 score = 0.0996881935895', 'Recall score is 0.511952007383', 'Number of features=108')\n",
      "(61, 'F1 score = 0.0993501546184', 'Recall score is 0.511490539917', 'Number of features=118')\n",
      "(66, 'F1 score = 0.0987158908507', 'Recall score is 0.510844485464', 'Number of features=127')\n",
      "(71, 'F1 score = 0.0988853152399', 'Recall score is 0.517858790955', 'Number of features=137')\n",
      "(76, 'F1 score = 0.0991032421246', 'Recall score is 0.517120443009', 'Number of features=146')\n",
      "(81, 'F1 score = 0.0987569365411', 'Recall score is 0.516566682049', 'Number of features=156')\n",
      "(86, 'F1 score = 0.0982466614573', 'Recall score is 0.516382095062', 'Number of features=166')\n",
      "(91, 'F1 score = 0.097993214781', 'Recall score is 0.518504845408', 'Number of features=175')\n",
      "(96, 'F1 score = 0.0978763501841', 'Recall score is 0.517674203969', 'Number of features=185')\n"
     ]
    }
   ],
   "source": [
    "from sklearn import feature_selection\n",
    "from sklearn.metrics import f1_score\n",
    "from sklearn.metrics import accuracy_score, recall_score\n",
    "d={}\n",
    "results = []\n",
    "for i in range(1, 100, 5):\n",
    "    fs = feature_selection.SelectPercentile(feature_selection.f_classif, percentile=i)\n",
    "    X_train_fs = fs.fit_transform(X_train, y_train)\n",
    "    pipe = make_pipeline_imb(RandomUnderSampler(random_state=42),\n",
    "                         StandardScaler(),\n",
    "                         SVC(kernel='linear', C=.01))\n",
    "    \n",
    "    pipe.fit(X_train_fs, y_train)\n",
    "    X_test_fs = fs.transform(X_test)\n",
    "    y_pred = pipe.predict(X_test_fs)\n",
    "    n_features=X_train_fs.shape[1]\n",
    "    print (i, \"F1 score = %s\" %f1_score(y_test, y_pred), \"Recall score is %s\" %recall_score(y_test,y_pred), \n",
    "           \"Number of features=%s\" %n_features)\n",
    "    columns = np.asarray(X_train.columns.values)\n",
    "    support = np.asarray(fs.get_support())\n",
    "    feature_names = columns[support]\n",
    "    d[n_features]=feature_names"
   ]
  },
  {
   "cell_type": "code",
   "execution_count": 28,
   "metadata": {
    "collapsed": false
   },
   "outputs": [
    {
     "name": "stdout",
     "output_type": "stream",
     "text": [
      "(1, 'F1 score = 0.0812116344444', 'Recall score is 0.32662667282', 'Number of features=2')\n",
      "(11, 'F1 score = 0.0954373174823', 'Recall score is 0.425288417167', 'Number of features=22')\n",
      "(21, 'F1 score = 0.0989663856558', 'Recall score is 0.469681587448', 'Number of features=41')\n",
      "(31, 'F1 score = 0.0996004088839', 'Recall score is 0.494600830641', 'Number of features=60')\n",
      "(41, 'F1 score = 0.0998130841121', 'Recall score is 0.492847254269', 'Number of features=79')\n",
      "(51, 'F1 score = 0.0998266769923', 'Recall score is 0.499676972773', 'Number of features=98')\n",
      "(61, 'F1 score = 0.099301352395', 'Recall score is 0.510290724504', 'Number of features=118')\n",
      "(71, 'F1 score = 0.0988875589664', 'Recall score is 0.518504845408', 'Number of features=137')\n",
      "(81, 'F1 score = 0.0987569365411', 'Recall score is 0.516566682049', 'Number of features=156')\n",
      "(91, 'F1 score = 0.097993214781', 'Recall score is 0.518504845408', 'Number of features=175')\n"
     ]
    }
   ],
   "source": [
    "from sklearn import feature_selection\n",
    "from sklearn.metrics import f1_score\n",
    "from sklearn.metrics import accuracy_score, recall_score\n",
    "d_chi={}\n",
    "results = []\n",
    "for i in range(1, 100, 10):\n",
    "    fs = feature_selection.SelectPercentile(feature_selection.chi2, percentile=i)\n",
    "    X_train_fs = fs.fit_transform(X_train, y_train)\n",
    "    pipe = make_pipeline_imb(RandomUnderSampler(random_state=42),\n",
    "                         StandardScaler(),\n",
    "                         SVC(kernel='linear', C=.01))\n",
    "    \n",
    "    pipe.fit(X_train_fs, y_train)\n",
    "    X_test_fs = fs.transform(X_test)\n",
    "    y_pred = pipe.predict(X_test_fs)\n",
    "    n_features=X_train_fs.shape[1]\n",
    "    print (i, \"F1 score = %s\" %f1_score(y_test, y_pred), \"Recall score is %s\" %recall_score(y_test,y_pred), \n",
    "           \"Number of features=%s\" %n_features)\n",
    "    columns = np.asarray(X_train.columns.values)\n",
    "    support = np.asarray(fs.get_support())\n",
    "    feature_names = columns[support]\n",
    "    d_chi[n_features]=feature_names"
   ]
  },
  {
   "cell_type": "code",
   "execution_count": 29,
   "metadata": {
    "collapsed": false
   },
   "outputs": [
    {
     "data": {
      "text/plain": [
       "array(['ps_ind_07_bin', 'ps_ind_17_bin'], dtype=object)"
      ]
     },
     "execution_count": 29,
     "metadata": {},
     "output_type": "execute_result"
    }
   ],
   "source": [
    "d_chi[2]"
   ]
  },
  {
   "cell_type": "code",
   "execution_count": 32,
   "metadata": {
    "collapsed": false
   },
   "outputs": [
    {
     "data": {
      "text/plain": [
       "array(['ps_car_13', 'ps_car_04_cat_0'], dtype=object)"
      ]
     },
     "execution_count": 32,
     "metadata": {},
     "output_type": "execute_result"
    }
   ],
   "source": [
    "d[2]"
   ]
  },
  {
   "cell_type": "code",
   "execution_count": 34,
   "metadata": {
    "collapsed": false
   },
   "outputs": [
    {
     "name": "stdout",
     "output_type": "stream",
     "text": [
      "                   pre       rec       spe        f1       geo       iba       sup\n",
      "\n",
      "          0       0.97      0.66      0.44      0.79      0.21      0.05    286771\n",
      "          1       0.05      0.44      0.66      0.09      0.21      0.04     10835\n",
      "\n",
      "avg / total       0.94      0.65      0.45      0.76      0.21      0.05    297606\n",
      "\n"
     ]
    }
   ],
   "source": [
    "#Let's fit a model with the top two variables from these different variable selection techniques and see how the  model\n",
    "# performs. Keeping in mind that the orifinal data (X_data) has already been shuffled.\n",
    "\n",
    "new_data_X=X_data[['ps_ind_07_bin', 'ps_ind_17_bin', 'ps_car_13', 'ps_car_04_cat_0']]\n",
    "new_data_Y=X_data['target']\n",
    "X_train, X_test, y_train, y_test=new_data_X[:n], new_data_X[n:], new_data_Y[:n], new_data_Y[n:]\n",
    "pipe = make_pipeline_imb(RandomUnderSampler(random_state=42),\n",
    "                         StandardScaler(),\n",
    "                         SVC(kernel='linear', C=.01))\n",
    "\n",
    "pipe.fit(X_train, y_train)\n",
    "y_pred=pipe.predict(X_test)\n",
    "from imblearn.metrics import classification_report_imbalanced\n",
    "print(classification_report_imbalanced(y_test, y_pred))\n",
    "\n"
   ]
  },
  {
   "cell_type": "code",
   "execution_count": 35,
   "metadata": {
    "collapsed": false
   },
   "outputs": [
    {
     "name": "stdout",
     "output_type": "stream",
     "text": [
      "0.444670050761\n"
     ]
    }
   ],
   "source": [
    "print recall_score(y_test,y_pred)"
   ]
  },
  {
   "cell_type": "code",
   "execution_count": 36,
   "metadata": {
    "collapsed": false,
    "scrolled": true
   },
   "outputs": [
    {
     "name": "stdout",
     "output_type": "stream",
     "text": [
      "0.0851974324061\n"
     ]
    }
   ],
   "source": [
    "print f1_score(y_test,y_pred)"
   ]
  },
  {
   "cell_type": "code",
   "execution_count": null,
   "metadata": {
    "collapsed": true
   },
   "outputs": [],
   "source": []
  }
 ],
 "metadata": {
  "kernelspec": {
   "display_name": "Python 2",
   "language": "python",
   "name": "python2"
  },
  "language_info": {
   "codemirror_mode": {
    "name": "ipython",
    "version": 2
   },
   "file_extension": ".py",
   "mimetype": "text/x-python",
   "name": "python",
   "nbconvert_exporter": "python",
   "pygments_lexer": "ipython2",
   "version": "2.7.13"
  }
 },
 "nbformat": 4,
 "nbformat_minor": 0
}
